{
 "cells": [
  {
   "cell_type": "code",
   "execution_count": 1,
   "id": "dying-invention",
   "metadata": {
    "vscode": {
     "languageId": "r"
    }
   },
   "outputs": [],
   "source": [
    "system(\"conda install -y r-sf=0.9_8\")"
   ]
  },
  {
   "cell_type": "code",
   "execution_count": 2,
   "id": "sharing-mystery",
   "metadata": {
    "vscode": {
     "languageId": "r"
    }
   },
   "outputs": [],
   "source": [
    "system(\"conda install -y r-terra=1.2_10\")"
   ]
  },
  {
   "cell_type": "code",
   "execution_count": 3,
   "id": "classical-tunisia",
   "metadata": {
    "vscode": {
     "languageId": "r"
    }
   },
   "outputs": [],
   "source": [
    "system(\"conda install -y r-dplyr\")"
   ]
  },
  {
   "cell_type": "code",
   "execution_count": 4,
   "id": "latin-assets",
   "metadata": {
    "vscode": {
     "languageId": "r"
    }
   },
   "outputs": [],
   "source": [
    "system(\"conda install -y r-stringr\")"
   ]
  },
  {
   "cell_type": "code",
   "execution_count": 5,
   "id": "conscious-finance",
   "metadata": {
    "vscode": {
     "languageId": "r"
    }
   },
   "outputs": [],
   "source": [
    "system(\"conda install -y r-RColorBrewer\")"
   ]
  },
  {
   "cell_type": "code",
   "execution_count": 6,
   "id": "committed-fields",
   "metadata": {
    "tags": [],
    "vscode": {
     "languageId": "r"
    }
   },
   "outputs": [
    {
     "name": "stderr",
     "output_type": "stream",
     "text": [
      "Warning message:\n",
      "“package ‘terra’ was built under R version 4.0.5”\n",
      "terra version 1.2.10\n",
      "\n",
      "\n",
      "Attaching package: ‘dplyr’\n",
      "\n",
      "\n",
      "The following objects are masked from ‘package:terra’:\n",
      "\n",
      "    intersect, union\n",
      "\n",
      "\n",
      "The following objects are masked from ‘package:stats’:\n",
      "\n",
      "    filter, lag\n",
      "\n",
      "\n",
      "The following objects are masked from ‘package:base’:\n",
      "\n",
      "    intersect, setdiff, setequal, union\n",
      "\n",
      "\n",
      "Warning message:\n",
      "“package ‘RColorBrewer’ was built under R version 4.0.5”\n",
      "Linking to GEOS 3.9.1, GDAL 3.2.2, PROJ 8.0.0\n",
      "\n",
      "\n",
      "Attaching package: ‘lubridate’\n",
      "\n",
      "\n",
      "The following objects are masked from ‘package:terra’:\n",
      "\n",
      "    intersect, union\n",
      "\n",
      "\n",
      "The following objects are masked from ‘package:base’:\n",
      "\n",
      "    date, intersect, setdiff, union\n",
      "\n",
      "\n"
     ]
    },
    {
     "name": "stdout",
     "output_type": "stream",
     "text": [
      " [1] \"2023-04-01\" \"2023-05-01\" \"2023-06-01\" \"2023-07-01\" \"2023-08-01\"\n",
      " [6] \"2023-09-01\" \"2023-10-01\" \"2023-11-01\" \"2023-12-01\" \"2024-01-01\"\n",
      "[11] \"2024-02-01\" \"2024-03-01\"\n",
      "Reading layer `asd-shapefile-EPSG4326' from data source `/data/jwd02f/pulsar_staging/79838529/working/jupyter/asd/asd-shapefile-EPSG4326.shp' using driver `ESRI Shapefile'\n",
      "Simple feature collection with 19 features and 16 fields\n",
      "Geometry type: POLYGON\n",
      "Dimension:     XY\n",
      "Bounding box:  xmin: -180 ymin: -85.41189 xmax: 180 ymax: -45\n",
      "Geodetic CRS:  WGS 84\n"
     ]
    },
    {
     "name": "stderr",
     "output_type": "stream",
     "text": [
      "Warning message in x@ptr$mask_vector(mask@ptr, inverse[1], updatevalue[1], touches[1], :\n",
      "“GDAL Message 1: Failed to fetch spatial reference on layer lyr to build transformer, assuming matching coordinate systems.”\n",
      "Warning message in plot.window(...):\n",
      "“\"box\" is not a graphical parameter”\n",
      "Warning message in plot.xy(xy, type, ...):\n",
      "“\"box\" is not a graphical parameter”\n",
      "Warning message in title(...):\n",
      "“\"box\" is not a graphical parameter”\n"
     ]
    },
    {
     "name": "stdout",
     "output_type": "stream",
     "text": [
      "Reading layer `asd-shapefile-EPSG6932' from data source `/data/jwd02f/pulsar_staging/79838529/working/jupyter/asd/asd-shapefile-EPSG6932.shp' using driver `ESRI Shapefile'\n"
     ]
    },
    {
     "name": "stderr",
     "output_type": "stream",
     "text": [
      "Warning message in CPL_read_ogr(dsn, layer, query, as.character(options), quiet, :\n",
      "“GDAL Error 1: unhandled axis direction: \"North along 90 deg East\"”\n"
     ]
    },
    {
     "name": "stdout",
     "output_type": "stream",
     "text": [
      "Simple feature collection with 19 features and 16 fields\n",
      "Geometry type: POLYGON\n",
      "Dimension:     XY\n",
      "Bounding box:  xmin: -3348556 ymin: -3329339 xmax: 4815055 ymax: 4371127\n",
      "CRS:           NA\n"
     ]
    },
    {
     "data": {
      "text/html": [
       "<strong>png:</strong> 2"
      ],
      "text/latex": [
       "\\textbf{png:} 2"
      ],
      "text/markdown": [
       "**png:** 2"
      ],
      "text/plain": [
       "png \n",
       "  2 "
      ]
     },
     "metadata": {},
     "output_type": "display_data"
    }
   ],
   "source": [
    "# 1 LOAD LIBRARIES ----\n",
    "library(terra)\n",
    "library(dplyr)\n",
    "library(stringr)\n",
    "library(RColorBrewer)\n",
    "library(sf)\n",
    "library(jsonlite)\n",
    "\n",
    "# 2 VARIABLES ----\n",
    "months_days <- list(\n",
    "  Jan = 31, Feb = 28, Mar = 31, Apr = 30, May = 31, Jun = 30, \n",
    "  Jul = 31, Aug = 31, Sep = 30, Oct = 31, Nov = 30, Dec = 31\n",
    ")\n",
    "\n",
    "\n",
    "json_path <- \"galaxy_inputs/galaxy_inputs.json\"\n",
    "json_data <- fromJSON(json_path)\n",
    "subarea <- json_data$subarea\n",
    "year <- json_data$year\n",
    "year <- as.numeric(year)\n",
    "month <- json_data$month\n",
    "\n",
    "month <- match(month, names(months_days))\n",
    "\n",
    "output_folder <- sprintf(\"%s_tif_daily\", year)\n",
    "dir.create(output_folder, showWarnings = FALSE, recursive = TRUE)\n",
    "\n",
    "# 3 FUNCTION ---\n",
    "\n",
    "\n",
    "\n",
    "\n",
    "library(lubridate)\n",
    "\n",
    "download_tiff_files <- function(path, year, month) {\n",
    "  \n",
    "  base_url <- \"https://noaadata.apps.nsidc.org/NOAA/G02135/south/daily/geotiff/\"\n",
    "  \n",
    "  months <- c(\"01_Jan\", \"02_Feb\", \"03_Mar\", \"04_Apr\", \"05_May\", \"06_Jun\",\n",
    "              \"07_Jul\", \"08_Aug\", \"09_Sep\", \"10_Oct\", \"11_Nov\", \"12_Dec\")\n",
    "  \n",
    "  # Définir la date de départ\n",
    "  start_date <- as.Date(sprintf(\"%04d-%02d-01\", year, month))\n",
    "  \n",
    "  # Générer les 12 mois suivants\n",
    "  dates <- seq.Date(start_date, by = \"month\", length.out = 12)\n",
    "  dates_str <- as.character(dates)\n",
    "  print(dates_str)\n",
    "  \n",
    "  for (date in dates_str) {\n",
    "    year_str <- year(date) \n",
    "    month_num <-month(date)\n",
    "    month_index <- sprintf(\"%02d\", month_num)  # Format 01, 02, ..., 12\n",
    "    month_folder <- months[month_num]  # Sélectionner le dossier du mois\n",
    "    \n",
    "    # Obtenir le nombre de jours dans le mois\n",
    "    num_days <- days_in_month(date)\n",
    "    \n",
    "    for (day in 1:num_days) {\n",
    "      date_str <- sprintf(\"S_%04d%02d%02d_concentration_v3.0.tif\", year_str, month_num, day)\n",
    "      url <- paste0(base_url, year_str, \"/\", month_folder, \"/\", date_str)\n",
    "      destfile <- file.path(path, date_str)\n",
    "      \n",
    "      tryCatch({\n",
    "        download.file(url, destfile, mode = \"wb\")\n",
    "      }, error = function(e) {})\n",
    "    }\n",
    "  }\n",
    "}\n",
    "\n",
    "\n",
    "# 4 MAIN ----\n",
    "# Télécharger les fichiers .tif pour l'année et le mois spécifiés\n",
    "download_tiff_files(output_folder, year, month)\n",
    "\n",
    "# Lister tous les fichiers .tif téléchargés\n",
    "tif_files <- list.files(output_folder, pattern = paste0(year, \"|\", formatC(month, width = 2, flag = \"0\")), full.names = TRUE)\n",
    "\n",
    "# Diviser les fichiers en deux sous-ensembles (selon les périodes que vous souhaitez traiter)\n",
    "tif_files_subset_1 <- tif_files[1:length(tif_files)]\n",
    "\n",
    "# Fonction pour traiter les fichiers .tif\n",
    "x <- function(tif_files){\n",
    "  stacked_rasters <- rast(tif_files)\n",
    "  stacked_rasters[is.na(stacked_rasters)] <- 0\n",
    "  reclassified_raster <- ifel(stacked_rasters >= 150 & stacked_rasters <= 1000, 1, 0)\n",
    "  sum_raster <- sum(reclassified_raster, na.rm = TRUE)\n",
    "  return(sum_raster)\n",
    "}\n",
    "\n",
    "# 5. LOAD AND MASK DATA (ASD) ----\n",
    "output_dir_asd <- \"asd\"\n",
    "dir.create(output_dir_asd, showWarnings = FALSE)\n",
    "\n",
    "# URLs pour les shapefiles ASD\n",
    "urls_asd <- c(\n",
    "  \"https://raw.githubusercontent.com/ccamlr/data/refs/tags/v0.5.0/geographical_data/asd/asd-shapefile-EPSG4326.shp\",\n",
    "  \"https://raw.githubusercontent.com/ccamlr/data/refs/tags/v0.5.0/geographical_data/asd/asd-shapefile-EPSG4326.shx\",\n",
    "  \"https://raw.githubusercontent.com/ccamlr/data/refs/tags/v0.5.0/geographical_data/asd/asd-shapefile-EPSG4326.dbf\",\n",
    "  \"https://raw.githubusercontent.com/ccamlr/data/refs/tags/v0.5.0/geographical_data/asd/asd-shapefile-EPSG4326.prj\",\n",
    "  \"https://raw.githubusercontent.com/ccamlr/data/refs/tags/v0.5.0/geographical_data/asd/asd-shapefile-EPSG6932.shp\",\n",
    "  \"https://raw.githubusercontent.com/ccamlr/data/refs/tags/v0.5.0/geographical_data/asd/asd-shapefile-EPSG6932.shx\",\n",
    "  \"https://raw.githubusercontent.com/ccamlr/data/refs/tags/v0.5.0/geographical_data/asd/asd-shapefile-EPSG6932.dbf\",\n",
    "  \"https://raw.githubusercontent.com/ccamlr/data/refs/tags/v0.5.0/geographical_data/asd/asd-shapefile-EPSG6932.prj\"\n",
    ")\n",
    "\n",
    "destfiles_asd <- file.path(output_dir_asd, basename(urls_asd))\n",
    "\n",
    "for (i in seq_along(urls_asd)) {\n",
    "  download.file(urls_asd[i], destfiles_asd[i], mode = \"wb\")\n",
    "}\n",
    "\n",
    "ASDs <- st_read(file.path(output_dir_asd, \"asd-shapefile-EPSG4326.shp\"))\n",
    "\n",
    "# Reproject ASD to the correct CRS (EASE-Grid 2.0 South)\n",
    "ASDs <- st_transform(ASDs, crs = 6932)\n",
    "\n",
    "# 6. CREATE MASK ----\n",
    "\n",
    "area_list <- unlist(strsplit(subarea, \"[,]\"))\n",
    "area_list <- trimws(area_list)  # Supprime les espaces avant et après chaque élément\n",
    "\n",
    "subareas_selected <- ASDs %>% filter(GAR_Short_ %in% area_list)\n",
    "\n",
    "# Créer un bounding box pour la zone sélectionnée\n",
    "bbox <- st_bbox(subareas_selected)\n",
    "bbox_polygon <- st_as_sfc(bbox)\n",
    "bbox_vect <- vect(bbox_polygon)\n",
    "\n",
    "# Appliquer le masque sur les rasters\n",
    "total_sum_raster_subset_1 <- x(tif_files_subset_1)\n",
    "\n",
    "# CROP : Ne garder que la zone d'intérêt (au lieu de tout le raster)\n",
    "total_sum_raster_subset_1_cropped <- crop(total_sum_raster_subset_1, bbox_vect)\n",
    "\n",
    "# Combiner les deux rasters\n",
    "total_sum_raster <- total_sum_raster_subset_1_cropped \n",
    "\n",
    "# Appliquer un masque (optionnel, mais peut être utile pour éviter des valeurs en dehors)\n",
    "total_sum_raster_masked <- mask(total_sum_raster, bbox_vect)\n",
    "\n",
    "# 7. PLOT ----\n",
    "# Palette de couleurs\n",
    "colors <- colorRampPalette(c(\"#2F133B\", \"#367AFC\", \"#00C3EA\", \"#03F791\", \"#72FE00\",\"#FDC207\", \"#FF7504\", \"#F32106\", \"#7B0503\"))(length(tif_files))\n",
    "\n",
    "# Créer la carte\n",
    "png(\"outputs/ice_days_map_masked.png\", width = dim(total_sum_raster_masked)[2]*20, height = dim(total_sum_raster_masked)[1]*20)\n",
    "\n",
    "# Tracer le raster masqué sans légende\n",
    "plot(total_sum_raster_masked, col = colors, axes = FALSE, box = FALSE, legend = FALSE, mar=c(0,0,0,0))\n",
    "plot(st_geometry(subareas_selected), add = TRUE, lwd = 2, border = 'white',mar=c(0,0,0,0))\n",
    "\n",
    "zones <- st_read(\"asd/asd-shapefile-EPSG6932.shp\")    \n",
    "centroids <- st_centroid(st_geometry(zones))\n",
    "text(st_coordinates(centroids), labels = zones$GAR_Long_L, col = \"white\", cex = 4) \n",
    "\n",
    "dev.off()\n",
    "\n"
   ]
  }
 ],
 "metadata": {
  "kernelspec": {
   "display_name": "R",
   "language": "R",
   "name": "ir"
  },
  "language_info": {
   "codemirror_mode": "r",
   "file_extension": ".r",
   "mimetype": "text/x-r-source",
   "name": "R",
   "pygments_lexer": "r",
   "version": "4.0.3"
  }
 },
 "nbformat": 4,
 "nbformat_minor": 5
}
