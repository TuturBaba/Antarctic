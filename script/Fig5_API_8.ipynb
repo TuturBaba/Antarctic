{
 "cells": [
  {
   "cell_type": "code",
   "execution_count": 1,
   "id": "tutorial-federation",
   "metadata": {
    "vscode": {
     "languageId": "r"
    }
   },
   "outputs": [],
   "source": [
    "system(\"conda install -y r-sf=0.9_8\")"
   ]
  },
  {
   "cell_type": "code",
   "execution_count": null,
   "id": "moved-english",
   "metadata": {
    "vscode": {
     "languageId": "r"
    }
   },
   "outputs": [
    {
     "name": "stdout",
     "output_type": "stream",
     "text": [
      "Reading layer `asd-shapefile-EPSG4326' from data source `/data/jwd02f/pulsar_staging/79954935/working/jupyter/asd/asd-shapefile-EPSG4326.shp' using driver `ESRI Shapefile'\n",
      "Simple feature collection with 19 features and 16 fields\n",
      "Geometry type: POLYGON\n",
      "Dimension:     XY\n",
      "Bounding box:  xmin: -180 ymin: -85.41189 xmax: 180 ymax: -45\n",
      "Geodetic CRS:  WGS 84\n"
     ]
    }
   ],
   "source": [
    "library(sf)\n",
    "library(dplyr)\n",
    "library(jsonlite)\n",
    "\n",
    "json_path <- \"galaxy_inputs/galaxy_inputs.json\"\n",
    "json_data <- fromJSON(json_path)\n",
    "\n",
    "list_year <- as.numeric(unlist(strsplit(json_data$year, \",\")))\n",
    "list_year <- seq(list_year[1],list_year[2])\n",
    "\n",
    "formatted_years <- sprintf(\"\\\"%s\\\"\", list_year)  # Ajoute des guillemets autour de chaque année\n",
    "formatted_years <- paste(formatted_years, collapse = \", \")  # Fusionne les années avec une virgule et un espace\n",
    "\n",
    "\n",
    "\n",
    "subarea <- json_data$subarea\n",
    "area_list <- unlist(strsplit(subarea, \",\"))\n",
    "\n",
    "download_ASDs <- function() {\n",
    "  output_dir <- \"asd\"\n",
    "  dir.create(output_dir, showWarnings = FALSE)\n",
    "  \n",
    "  urls_asd <- c(\n",
    "    \"https://raw.githubusercontent.com/ccamlr/data/refs/tags/v0.5.0/geographical_data/asd/asd-shapefile-EPSG4326.shp\",\n",
    "    \"https://raw.githubusercontent.com/ccamlr/data/refs/tags/v0.5.0/geographical_data/asd/asd-shapefile-EPSG4326.shx\",\n",
    "    \"https://raw.githubusercontent.com/ccamlr/data/refs/tags/v0.5.0/geographical_data/asd/asd-shapefile-EPSG4326.dbf\",\n",
    "    \"https://raw.githubusercontent.com/ccamlr/data/refs/tags/v0.5.0/geographical_data/asd/asd-shapefile-EPSG4326.prj\",\n",
    "    \"https://raw.githubusercontent.com/ccamlr/data/refs/tags/v0.5.0/geographical_data/asd/asd-shapefile-EPSG4326.cst\"\n",
    "  )\n",
    "  \n",
    "  destfiles <- file.path(output_dir, c(\n",
    "    \"asd-shapefile-EPSG4326.shp\",\n",
    "    \"asd-shapefile-EPSG4326.shx\",\n",
    "    \"asd-shapefile-EPSG4326.dbf\",\n",
    "    \"asd-shapefile-EPSG4326.prj\",\n",
    "    \"asd-shapefile-EPSG4326.cst\"\n",
    "  ))\n",
    "  \n",
    "  mapply(download.file, urls_asd, destfiles, MoreArgs = list(mode = \"wb\"))\n",
    "  st_read(file.path(output_dir, \"asd-shapefile-EPSG4326.shp\"))\n",
    "}\n",
    "\n",
    "ASDs <- download_ASDs()\n",
    "subareas_selected <- filter(ASDs, GAR_Short_ %in% area_list)\n",
    "bbox <- st_bbox(subareas_selected) \n",
    "\n",
    "#bbox pas toujours dans le bonne ordre \n",
    "xmin <- min(bbox[\"xmin\"], bbox[\"xmax\"])\n",
    "xmax <- max(bbox[\"xmin\"], bbox[\"xmax\"])\n",
    "ymin <- min(bbox[\"ymin\"], bbox[\"ymax\"])\n",
    "ymax <- max(bbox[\"ymin\"], bbox[\"ymax\"])\n",
    "\n",
    "\n",
    "# Créer le texte avec les paramètres souhaités\n",
    "script_text <- paste(\n",
    "  \"import cdsapi\\n\\n\",\n",
    "  \"c = cdsapi.Client()\\n\",\n",
    "  \"c.retrieve(\\\"reanalysis-era5-single-levels\\\",  \\n\",\n",
    "  \"{\\n\",\n",
    "  \"    \\\"product_type\\\": [\\\"ensemble_mean\\\"],\\n\",\n",
    "  \"    \\\"variable\\\": [\\\"sea_surface_temperature\\\"],\\n\",\n",
    "  \"    \\\"year\\\": [\",formatted_years, \"],\\n\",\n",
    "  \"    \\\"month\\\": [\\n\",\n",
    "  \"        \\\"01\\\", \\\"02\\\", \\\"03\\\",\\n\",\n",
    "  \"        \\\"04\\\", \\\"05\\\", \\\"06\\\",\\n\",\n",
    "  \"        \\\"07\\\", \\\"08\\\", \\\"09\\\",\\n\",\n",
    "  \"        \\\"10\\\", \\\"11\\\", \\\"12\\\"\\n\",\n",
    "  \"    ],\\n\",\n",
    "  \"    \\\"day\\\": [\\n\",\n",
    "  \"        \\\"01\\\", \\\"02\\\", \\\"03\\\",\\n\",\n",
    "  \"        \\\"04\\\", \\\"05\\\", \\\"06\\\",\\n\",\n",
    "  \"        \\\"07\\\", \\\"08\\\", \\\"09\\\",\\n\",\n",
    "  \"        \\\"10\\\", \\\"11\\\", \\\"12\\\",\\n\",\n",
    "  \"        \\\"13\\\", \\\"14\\\", \\\"15\\\",\\n\",\n",
    "  \"        \\\"16\\\", \\\"17\\\", \\\"18\\\",\\n\",\n",
    "  \"        \\\"19\\\", \\\"20\\\", \\\"21\\\",\\n\",\n",
    "  \"        \\\"22\\\", \\\"23\\\", \\\"24\\\",\\n\",\n",
    "  \"        \\\"25\\\", \\\"26\\\", \\\"27\\\",\\n\",\n",
    "  \"        \\\"28\\\", \\\"29\\\", \\\"30\\\",\\n\",\n",
    "  \"        \\\"31\\\"\\n\",\n",
    "  \"    ],\\n\",\n",
    "  \"    \\\"time\\\": [\\n\",\n",
    "  \"        \\\"00:00\\\", \\\"03:00\\\", \\\"06:00\\\",\\n\",\n",
    "  \"        \\\"09:00\\\", \\\"12:00\\\", \\\"15:00\\\",\\n\",\n",
    "  \"        \\\"18:00\\\", \\\"21:00\\\"\\n\",\n",
    "  \"    ],\\n\",\n",
    "  \"    \\\"data_format\\\": \\\"grib\\\",\\n\",\n",
    "  \"    \\\"download_format\\\": \\\"unarchived\\\",\\n\",\n",
    "  \"    \\\"area\\\": [\", ymax, \", \", xmin, \", \",ymin, \", \",  xmax, \"]\\n\",  # Correction bbox\n",
    "  \"},\\n\",\n",
    "  \"'download.nc')\\n\"\n",
    ")\n",
    "\n",
    "# Spécifier le chemin du fichier de sortie\n",
    "output_file <- \"outputs/script.txt\"\n",
    "\n",
    "# Écrire le texte dans le fichier\n",
    "writeLines(script_text, output_file)"
   ]
  }
 ],
 "metadata": {
  "kernelspec": {
   "display_name": "R",
   "language": "R",
   "name": "ir"
  },
  "language_info": {
   "codemirror_mode": "r",
   "file_extension": ".r",
   "mimetype": "text/x-r-source",
   "name": "R",
   "pygments_lexer": "r",
   "version": "4.0.3"
  }
 },
 "nbformat": 4,
 "nbformat_minor": 5
}
