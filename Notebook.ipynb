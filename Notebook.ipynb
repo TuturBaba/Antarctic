{
 "cells": [
  {
   "cell_type": "markdown",
   "id": "246e4674-2370-4591-ba69-b63d8e7b5073",
   "metadata": {},
   "source": [
    "# Notebook for FAIRness Area 58\n",
    "The “[State of the Environment and Antarctic Marine Living Resources in Area 48](https://data-access.cesgo.org/index.php/s/P4CWeuACcLYwU1p)”: a proposed model for an annual report to SCCAMLR"
   ]
  },
  {
   "cell_type": "markdown",
   "id": "e62e9526-6484-461d-bd81-2c030239b8c4",
   "metadata": {},
   "source": [
    "# Organisation dosier\n",
    "- bin: script sh\n",
    "- conf: .config\n",
    "- modules: .nf\n",
    "- result:\n",
    "    - 00_pipeline: ligne de commande utilisé\n",
    "    - 01_reports:\n",
    "    - 02_results"
   ]
  },
  {
   "cell_type": "markdown",
   "id": "37d130d9-c67a-451a-8b11-050cb0b6fdfd",
   "metadata": {},
   "source": [
    "# PS: \n",
    "\n",
    "### Lien avec ZATA et autres collaborations\n",
    "\n",
    "- [ZATA](https://codimd.math.cnrs.fr/-Rm9NT_pRT2xO1zNehN-Sw)\n",
    "- [Workshop EBV Anton](https://codimd.math.cnrs.fr/yMbzDLqLTbG4sAOW3YP4TA)\n",
    "\n",
    "\n",
    "### Travail prevu \n",
    "A la fin du stage avoir workflows + listing des données auxiliaires accessibles + données biodiv, si possible toutes les données accessibles via Galaxy !\n",
    "Voir pour réutilisation données ZATA + création de tableau de bord via Beauris (faire un tableau de bord “state of the ecosystems” CCAMLR France via BEAURIS ? - orientations variables essentielles)\n",
    "\n",
    "Intaller les dossier et fichier d'un git: https://downgit.evecalm.com/#/home"
   ]
  },
  {
   "cell_type": "markdown",
   "id": "42f077eb-8812-4d34-8d44-39b043b0886b",
   "metadata": {},
   "source": [
    "# Galaxy\n",
    "Sur Galaxy, 3 moyen de faire quelque chose:\n",
    "- Chercher un outil\n",
    "- Utiliser Jupyter Nextflow\n",
    "- Creer l'outil  \n",
    "\n",
    "Mettre le plus possible en format **tabular**\n",
    "\n",
    "Galaxy permet:\n",
    "- eviter les outils down sur interent\n",
    "- Permet de pas telecharger sur son ordi, ni de l'utiliser\n",
    "- Telechargement des data peut se faire plus rapidement en echangenant directmeent avec les serveurs\n",
    "\n",
    "Apprendre SIG: https://github.com/ClementDelgrange/Cours_programmation_SIG/blob/master/0-Introduction_programmation_SIG.pdf "
   ]
  },
  {
   "cell_type": "markdown",
   "id": "18974cee-28bf-4fce-85cf-2325b2fba946",
   "metadata": {},
   "source": [
    "\n",
    "| Figure du document | Provenance des données                                                                                                                                                      | Accessibilité des données brutes                                                                                        | Galaxy                                                                                                                                                                    | Autre                                                                                                                                                             |     |\n",
    "| ------------------ | --------------------------------------------------------------------------------------------------------------------------------------------------------------------------- | --------------------------------------------------------------------------------------------------------------------- | ------------------------------------------------------------------------------------------------------------------------------------------------------------------------- | ----------------------------------------------------------------------------------------------------------------------------------------------------------------- | --- |\n",
    "| Figure 1  Map of Area 48 including Subareas and CEMP sites                    | CCMALR gis                                                                                                                                                                  | Accessible (https://github.com/ccamlr/data/tree/main/geographical_data)                                               | Non pas besoin                                                                                                                                                             |                                                                                                                                                                   |     |\n",
    "| Figure 2 Antarctic sea ice extent          | US National Snow and Ice center                                                                                                                                             | Accessible (https://nsidc.org/data/g02135/versions/3)                                                                 | Non pas besoin (https://nsidc.org/data/bist)                                                                                                                              |                                                                                                                                                                   |     |\n",
    "| Figure 3 Monthly mean sea ice concentration and sea ice concentration anomalies          | US National Snow and Ice center                                                                                                                                             | Accessible (https://noaadata.apps.nsidc.org/NOAA/G02135/)                                                             | Non pas besoin (https://nsidc.org/arcticseaicenews/charctic-interactive-sea-ice-graph/)                                                                                   |                                                                                                                                                                   |     |\n",
    "| Figure 4  Area 48 sea ice duration for April 2023-March 2024          | US National Snow and Ice center + CCAMLR gis (?)                                                                                                                            | Accessible (https://noaadata.apps.nsidc.org/NOAA/G02135/)                                                             | Oui potentiellement                                                                                                                                                       | Il faut récupérer les bonnes données (pas d'infos sur le fichier précis à télécharger) ainsi que le fond de carte et les zones d'intérets (CCAMLR gis ?)          |     |\n",
    "| Figure 5  Monthly mean sea surface temperatures (SST; °C) and anomalies          | ERA5 reanalysis from Copernicus Climate Change Services (C3S)                                                                                                               | Accessible *a priori* (https://cds.climate.copernicus.eu/cdsapp#!/dataset/reanalysis-era5-single-levels?tab=overview) | Oui potentiellement. Création d'outil pour traitement de données si besoin + outil de visualisation/création de graphes (peut-être même outil que pour la figure 6 et 8). | Manque d'infos pour récupérer les données car selection à faire lors du téléchargement et les propositions du site ne correspondent pas.                          |     |\n",
    "| Figure 6   Example of time series for specific sites, here focussing on two  monitoring  regions  at  South  Georgia         | Copernicus (https://www.copernicus.eu/en)                                                                                                                                   | Accessible *a priori* (https://data.marine.copernicus.eu/product/SST_GLO_SST_L4_NRT_OBSERVATIONS_010_001/description) | Oui potentiellement. Création d'outil pour traitement de données si besoin + outil de visualisation/création de graphes (peut-être même outil que pour la figure 5 et 8). | Manque d'infos sur les données pour télécharger les bons fichiers.  Utilisation de \"The Climate Data Toolbox for MATLAB\" en python pour création des graphes.     |     |\n",
    "| Figure 7 Example sea surface temperature (SST) and SST anomaly maps for 15th           | NASA                                                                                                                                                                        | Non accessible mais carte reproductible                                                                               | Non                                                                                                                                                                       | carte reproductible sur ce lien https://soto.podaac.earthdatacloud.nasa.gov/                                                                                      |     |\n",
    "| Figure 8 Monthly mean 2m near surface air temperature and anomalies          | ERA5 reanalysis from Copernicus Climate Change Services (C3S)                                                                                                               | Accessible *a priori* (https://cds.climate.copernicus.eu/cdsapp#!/dataset/reanalysis-era5-single-levels)              | Oui potentiellement. Création d'outil pour traitement de données si besoin + outil de visualisation/création de graphes (peut-être même outil que pour la figure 5 et 6). | Manque d'infos sur les données pour télécharger les bons fichiers.                                                                                                |     |\n",
    "| Figure 9   Monthly     mean     chlorophyll     a     concentration          | Copernicus-GlobColour dataset                                                                                                                                               | Accessible (https://doi.org/10.48670/moi-00281)                                                                       | Oui (outil NetCDF xarray plotting déjà dispo)                                                                                                                             | Données récupérées +  figure obtenue avec galaxy pour octobre 2022 (historique : https://ecology.usegalaxy.eu/published/history?id=791fe58f7e94540f) et [image](https://ecology.usegalaxy.eu/api/datasets/4838ba20a6d86765b7ddda97cf17ba29/display?to_ext=png) ![](https://codimd.math.cnrs.fr/uploads/6b4e205d4204cf272ac86d306.png) (voir pour la projection) [script récupéré](NSIDC0081_SEAICE_PS_S25km_20241207_v2.0.nc) depuis NSIDC MAIS il faut compte \"Earthdata\" https://nsidc.org/data/data-access-tool/NSIDC-0081/versions/2 |     |\n",
    "| Figure 10 Climate indices         | Produced by G. Marshall, BAS http://www.nerc-bas.ac.uk/icd/gjma/sam.html + Multi-variate El Niño-Southern Oscillation (ENSO) Index Version 2 https://psl.noaa.gov/enso/mei/ | Accessible (data et figure)                                                                                           | Oui et non                                                                                                                                                                | Utilisation de Galaxy pour reproduire les figures mais comme les figures sont dispo directement peut-être pas pertinent                                           |     |\n",
    "| Figure 11 Reported iceberg locations for April 2023-March 2024         |                                                                                                                                                                             | Non accessible                                                                                                        | Non                                                                                                                                                                       | Citation non accessible gratuitement                                                                                                                              |     |\n",
    "| Figure 12  Corrected reflectance Aqua/MODIS         | Image reproduced from WG-EMM-2023/24                                                                                                                                        | Non accessible                                                                                                        | Peut-être                                                                                                                                                                 | Données non accessible mais graphes potentiellement facile a repoduire dans Galaxy                                                                                |     |\n",
    "| Figure 13   number of breeding pairs of gentoo penguins at Port Lockroy, Goudier Island 1997-2024        | https://fisheryreports.ccamlr.org/                                                                                                                                          | Non accessible                                                                                                        | Non                                                                                                                                                                       |                                                                                                                                                                   |     |\n",
    "| Figure 14  number of breeding pairs of (a) Adélie (b) chinstrap (c) gentoo penguins at Signy Island, South Orkney Island 1989-2024        | https://fisheryreports.ccamlr.org/                                                                                                                                          | Non accessible                                                                                                        | Peut-être                                                                                                                                                                 | Données non accessible mais graphes potentiellement facile a repoduire dans Galaxy                                                                                |     |\n",
    "| Figure 15  number of nesting pairs of (a) macaroni (b) gentoo penguins at Bird Island, South Georgia 1989-2024        | https://fisheryreports.ccamlr.org/                                                                                                                                          | Non accessible                                                                                                        | Non                                                                                                                                                                       |                                                                                                                                                                   |     |\n",
    "\n",
    "\n",
    "\n",
    "\n",
    "\n",
    "Figure 16 number of breeding pairs of gentoo penguins at Maiviken, South Georgia 2009-2024.\n",
    "\n",
    "Fig. 17: Annual Antarctic krill catch (tonnes) by Subarea 1980-2024.\n",
    "\n",
    "Fig. 18: Antarctic krill catch distribution in 2022/23 compared to fishery footprint 1992-2023 \n",
    "\n",
    "Fig. 19: Annual and monthly krill catch (tonnes) and effort\n",
    "\n",
    "Fig. 20. Spatial distribution of commercial Antarctic krill fishery catches for austral summer (October to March; left panel) and winter (April to September; right panel) for the 2013-2023  seasons.\n",
    "\n"
   ]
  },
  {
   "cell_type": "markdown",
   "id": "1a2930cc-c267-47b3-b4ac-7cbb91981b5f",
   "metadata": {},
   "source": [
    "## Figure 1   \n",
    "![](figure/Fig01.png)  "
   ]
  },
  {
   "cell_type": "markdown",
   "id": "83936af3-bcf6-41a7-97fc-c0ce6686f89f",
   "metadata": {},
   "source": [
    "### Metatada\n",
    "\n",
    "By **CCMALR**, disponible sur https://gis.ccamlr.org/  \n",
    "\n",
    "### Data\n",
    "**Format**: SIG   \n",
    "Data dispo sur git: https://github.com/ccamlr/data/tree/main/geographical_data/asd    \n",
    "- `Comment intaller les data`\n",
    "### Tool\n",
    "\n",
    "Il faut un outil qui lit du SIG, outil galaxu si possible et qui prend en entrée le JSON (+ simple)\n",
    "(shapefile, Gotif, Gdal, Ogr)  \n",
    "- `Quel outil pour la visu?`\n",
    "\n",
    "### Envie\n",
    "- Demander quel zone voulu, afficher que les zones interrese\n"
   ]
  },
  {
   "cell_type": "markdown",
   "id": "20a9e8b9-4f83-4b1c-8a78-b5bbc1fa4e58",
   "metadata": {},
   "source": [
    "## Figure 2   \n",
    "![](figure/Fig02.png)"
   ]
  },
  {
   "cell_type": "markdown",
   "id": "8f9ce163-b22e-42a8-bb5d-370297c31c7f",
   "metadata": {},
   "source": [
    "### Metatada\n",
    "\n",
    "By **US National Snow and Ice center**, utilise l'outil: [Charctic Interactive Sea Ice Graph](https://nsidc.org/sea-ice-today/sea-ice-tools/charctic-interactive-sea-ice-graph)  \n",
    "\n",
    "### Data\n",
    "**Format**:  csv (\",\")  \n",
    "Data dispo ici : https://noaadata.apps.nsidc.org/NOAA/G02135/south/daily/data/    \n",
    "\n",
    "\n",
    "| Nom du fichier                                  | Date et heure            | Taille (en octets) |\n",
    "|------------------------------------------------|--------------------------|--------------------|\n",
    "| S_seaice_extent_climatology_1981-2010_v3.0.csv | 02-Jan-2025 15:08        | 34520             |\n",
    "| S_seaice_extent_daily_v3.0.csv                 | 30-Jan-2025 11:23        | 1836740           |\n",
    "\n",
    "\n",
    "\n",
    "\n",
    "\n",
    "- `Comment intaller les data`:\n",
    "    - **paste/file** (ou wget)\n",
    "- `Comment manipuler les tableaux (un tableau par mois --> un tableau par année)`\n",
    "    - Plus besoin, utilise les jours, et un dossier contient tout\n",
    "\n",
    "Utiliser regex, (Join, Substract and Group)\n",
    "\n",
    "### Tool\n",
    "\n",
    "Un outil de visualisation surment avec ggplot (d3js)\n",
    "- `Quel outil pour la visu?`\n",
    "\n",
    "### Envie\n",
    "\n"
   ]
  },
  {
   "cell_type": "markdown",
   "id": "ed7f7de2-4a33-4449-81b0-5df04e57bbb6",
   "metadata": {},
   "source": [
    "## Figure 3\n",
    "![](figure/Fig03.png) "
   ]
  },
  {
   "cell_type": "markdown",
   "id": "0c8fe7ce-950e-40a8-aad5-6604425d4da7",
   "metadata": {},
   "source": [
    "### Metatada\n",
    "\n",
    "By **US National Snow and Ice center**, utilise l'outil: [Sea Ice Analysis Tool](https://nsidc.org/sea-ice-today/sea-ice-tools/sea-ice-analysis-tool)      \n",
    "\n",
    "### Data\n",
    "**Format**:    \n",
    "Data dispo ici : https://noaadata.apps.nsidc.org/NOAA/G02135/ --> chercher  \n",
    "\n",
    "- `Comment intaller les data`:\n",
    "    - **paste/file** (ou wget)\n",
    "\n",
    "### Tool\n",
    "\n",
    "- `Quel outil pour la visu?`\n",
    "    - Outil de scraping (BeautifulSoup)\n",
    "    - Chercher galaxy ou autre \n",
    "\n",
    "### Envie\n"
   ]
  },
  {
   "cell_type": "markdown",
   "id": "4d125189-1a4e-43d9-9fcf-ef5e4c843cac",
   "metadata": {},
   "source": [
    "## Figure 4\n",
    "![](figure/Fig04.png) "
   ]
  },
  {
   "cell_type": "markdown",
   "id": "5ed8d5d8-012e-4d34-b19b-365214843fba",
   "metadata": {},
   "source": [
    "### Metatada\n",
    "\n",
    "By **US National Snow and Ice center**\n",
    "\n",
    "### Data\n",
    "**Format**:    \n",
    "Data dispo ici : \n",
    "\n",
    "- `Comment intaller les data`:\n",
    "\n",
    "### Tool\n",
    "\n",
    "- `Quel outil pour la visu?`\n",
    "\n",
    "### Envie"
   ]
  },
  {
   "cell_type": "markdown",
   "id": "fe191196-f0d8-4424-a284-60c40e66afa1",
   "metadata": {},
   "source": [
    "## Figure 5\n",
    "![](figure/Fig05_1.png) ![](figure/Fig05_2.png)"
   ]
  },
  {
   "cell_type": "markdown",
   "id": "03ffa890-9012-4407-8c9f-f8e0047598ca",
   "metadata": {},
   "source": [
    "### Metatada\n",
    "\n",
    "By **ERA5 reanalysis from Copernicus Climate Change Services (C3S)**\n",
    "\n",
    "### Data\n",
    "**Format**:    \n",
    "Data dispo ici :  https://cds.climate.copernicus.eu/datasets/reanalysis-era5-single-levels?tab=overview \n",
    "- `Comment intaller les data`: Utiliser Galaxy ?\n",
    "\n",
    "### Tool\n",
    "\n",
    "- `Quel outil pour la visu?`: Avoir regarder un outil de galaxy \n",
    "\n",
    "### Envie"
   ]
  },
  {
   "cell_type": "markdown",
   "id": "5183c3db-ac53-451d-9291-42b6d94564c9",
   "metadata": {},
   "source": [
    "\n",
    "## Figure 6\n",
    "![](figure/Fig06.png)"
   ]
  },
  {
   "cell_type": "markdown",
   "id": "d4fb4d15-d838-4a95-9933-286dc609022a",
   "metadata": {},
   "source": [
    "### Metatada\n",
    "\n",
    "By **ERA5 reanalysis from Copernicus Climate Change Services (C3S)**\n",
    "\n",
    "### Data\n",
    "**Format**:    \n",
    "Data dispo ici :  https://cds.climate.copernicus.eu/datasets/reanalysis-era5-single-levels?tab=overview \n",
    "- `Comment intaller les data`: Utiliser Galaxy ?\n",
    "\n",
    "### Tool\n",
    "\n",
    "- `Quel outil pour la visu?`: Avoir regarder un outil de galaxy \n",
    "\n",
    "### Envie"
   ]
  },
  {
   "cell_type": "markdown",
   "id": "8f559764-8d54-4b29-bf59-8be9e796dbfe",
   "metadata": {},
   "source": [
    "## Figure 8\n",
    "<div style=\"display: flex;\">\n",
    "    <img src=\"figure/Fig08_1.png\" style=\"width: 70%; margin-right: 10px;\">\n",
    "    <img src=\"figure/Fig08_2.png\" style=\"width: 70%;\">\n",
    "</div>\n"
   ]
  },
  {
   "cell_type": "markdown",
   "id": "60aeebe9-b7df-44f3-a4ab-7b51e7855bd3",
   "metadata": {},
   "source": [
    "### Metatada\n",
    "\n",
    "By **ERA5 reanalysis from Copernicus Climate Change Services (C3S)**\n",
    "\n",
    "### Data\n",
    "**Format**:    \n",
    "Data dispo ici :  https://cds.climate.copernicus.eu/datasets/reanalysis-era5-single-levels?tab=overview \n",
    "- `Comment intaller les data`: Utiliser Galaxy ?\n",
    "\n",
    "### Tool\n",
    "\n",
    "- `Quel outil pour la visu?`: Avoir regarder un outil de galaxy \n",
    "\n",
    "### Envie"
   ]
  },
  {
   "cell_type": "markdown",
   "id": "5d9c21f9-cd8f-479b-8422-a4e81e9f8cf1",
   "metadata": {},
   "source": [
    "## Figure 7\n",
    "![](figure/Fig07.png)"
   ]
  },
  {
   "cell_type": "markdown",
   "id": "f5bcc264-ebc1-4c85-bf18-65a0452d7c90",
   "metadata": {},
   "source": [
    "### Metatada\n",
    "\n",
    "By **NASA**, un outil en ligne dispo: [soto by worldview](https://soto.podaac.earthdatacloud.nasa.gov/?v=-242.87122707950022,-125.3618960601597,120.28161886346953,38.95530962367102&l=Reference_Labels_15m(hidden),Reference_Features_15m(hidden),Coastlines_15m(hidden),MODIS_Aqua_L2_Chlorophyll_A(hidden),GHRSST_L4_MUR_Sea_Surface_Temperature_Anomalies(palette=divergent_1),GHRSST_L4_MUR_Sea_Surface_Temperature(hidden,palette=purple_3),VIIRS_NOAA20_CorrectedReflectance_TrueColor(hidden),BlueMarble_ShadedRelief&lg=true&l1=Reference_Labels_15m(hidden),Reference_Features_15m(hidden),Coastlines_15m(hidden),MODIS_Aqua_L2_Chlorophyll_A(hidden),GHRSST_L4_MUR_Sea_Surface_Temperature_Anomalies(palette=divergent_1),GHRSST_L4_MUR_Sea_Surface_Temperature(hidden,palette=purple_3),VIIRS_NOAA20_CorrectedReflectance_TrueColor(hidden),BlueMarble_ShadedRelief&lg1=true&ca=true&cv=48&t=2019-09-13-T00%3A00%3A00Z&t1=2015-03-11-T10%3A00%3A00Z ) \n",
    "\n",
    "Notebook a lire, peut etre vraiment utilise pour l'utilisation : https://github.com/podaac/tutorials/blob/master/notebooks/SWOT-EA-2021/Colocate_satellite_insitu_ocean.ipynb \n",
    "\n",
    "### Data\n",
    "**Format**:    \n",
    "Data dispo ici :  https://podaac.jpl.nasa.gov/dataset/MUR-JPL-L4-GLOB-v4.1#  \n",
    "- `Comment intaller les data`: \n",
    "\n",
    "### Tool\n",
    "\n",
    "- `Quel outil pour la visu?`: \n",
    "\n",
    "### Envie"
   ]
  },
  {
   "cell_type": "markdown",
   "id": "6e01f63c-44f9-4f61-8672-3891e17ea12b",
   "metadata": {},
   "source": [
    "## Figure 9\n",
    "![](figure/Fig09.png)"
   ]
  },
  {
   "cell_type": "markdown",
   "id": "e2ed04b2-1a15-4446-8c4f-ea6fb0f3cacc",
   "metadata": {},
   "source": [
    "### Metatada\n",
    "\n",
    "By **NASA**, un outil en ligne dispo: https://data.marine.copernicus.eu/viewer/expert?view=viewer&crs=epsg%3A32761&t=1705330800000&z=0&center=-52.65430808861972%2C-62.67459102095644&zoom=10.776&layers=H4sIAPWhnGcAAz3OzQqCQBQF4He5a6vRCMKdWolgGdkmIi7XcTThjiPaf.TumYu2h3M43.ENN_KrCph0A25B3CkLmJ6qjXJwIYwT34vR23jxIY3SVbJbBl66Rz8MUAgbhTOfSK10h9rkWLLBrJSjprgg1YVEMXZmuSpxay9GGh3hTG17Is8MFryiOlcPcIUF1e8JedqnbMpUEqs.RRo2raZm0LRU1Zm5970BvaZ_P.ucvkU9v1TFAAAA&basemap=light&showToponyms=1 \n",
    "\n",
    "https://data.marine.copernicus.eu/product/OCEANCOLOUR_GLO_BGC_L4_MY_009_104/description \n",
    "### Data\n",
    "**Format**: .nc ?   \n",
    "Data dispo ici :  https://data.marine.copernicus.eu/product/OCEANCOLOUR_GLO_BGC_L4_MY_009_104/services \n",
    "download dans raw_data mars 2024 \n",
    "- `Comment intaller les data`: \n",
    "\n",
    "### Tool\n",
    "\n",
    "- `Quel outil pour la visu?`: \n",
    "\n",
    "### Envie"
   ]
  },
  {
   "cell_type": "markdown",
   "id": "2daf1313-33e5-4b33-82ab-7a6fc15a138d",
   "metadata": {},
   "source": [
    "\n",
    "## Figure 10\n",
    "![](figure/Fig10.png)"
   ]
  },
  {
   "cell_type": "markdown",
   "id": "b91496fe-5d1a-4bd6-809f-31b5495584df",
   "metadata": {},
   "source": [
    "### Metatada\n",
    "\n",
    "By **NASA**, un outil en ligne dispo: \n",
    "\n",
    "\n",
    "Figure 10_A  deja produite  \n",
    "La disposition des stations: <div style=\"display: flex;\">\n",
    "    <img src=\"figure/sam_map_station_localisation.png\" style=\"width: 20%;\">\n",
    "</div>\n",
    "Figure 10_B deja fait aussi, est ce que c'est interresant pour le 58,??? \n",
    "\n",
    "### Data\n",
    "**Format**:    \n",
    "Data dispo ici :  https://podaac.jpl.nasa.gov/dataset/MUR-JPL-L4-GLOB-v4.1#  \n",
    "- `Comment intaller les data`: \n",
    "\n",
    "### Tool\n",
    "\n",
    "- `Quel outil pour la visu?`: \n",
    "\n",
    "### Envie\n"
   ]
  },
  {
   "cell_type": "markdown",
   "id": "87287c2c-b62f-49e0-b0ab-896c54b0bcd1",
   "metadata": {},
   "source": [
    "## Figure 11\n",
    "![](figure/Fig11.png)"
   ]
  },
  {
   "cell_type": "markdown",
   "id": "20bc7b33-91bd-4d52-80b9-14914bfd1eb6",
   "metadata": {},
   "source": [
    "### Metatada\n",
    "\n",
    "By **NASA**, un outil en ligne dispo: [soto by worldview](https://soto.podaac.earthdatacloud.nasa.gov/?v=-242.87122707950022,-125.3618960601597,120.28161886346953,38.95530962367102&l=Reference_Labels_15m(hidden),Reference_Features_15m(hidden),Coastlines_15m(hidden),MODIS_Aqua_L2_Chlorophyll_A(hidden),GHRSST_L4_MUR_Sea_Surface_Temperature_Anomalies(palette=divergent_1),GHRSST_L4_MUR_Sea_Surface_Temperature(hidden,palette=purple_3),VIIRS_NOAA20_CorrectedReflectance_TrueColor(hidden),BlueMarble_ShadedRelief&lg=true&l1=Reference_Labels_15m(hidden),Reference_Features_15m(hidden),Coastlines_15m(hidden),MODIS_Aqua_L2_Chlorophyll_A(hidden),GHRSST_L4_MUR_Sea_Surface_Temperature_Anomalies(palette=divergent_1),GHRSST_L4_MUR_Sea_Surface_Temperature(hidden,palette=purple_3),VIIRS_NOAA20_CorrectedReflectance_TrueColor(hidden),BlueMarble_ShadedRelief&lg1=true&ca=true&cv=48&t=2019-09-13-T00%3A00%3A00Z&t1=2015-03-11-T10%3A00%3A00Z ) \n",
    "\n",
    "Notebook a lire, peut etre vraiment utilise pour l'utilisation : https://github.com/podaac/tutorials/blob/master/notebooks/SWOT-EA-2021/Colocate_satellite_insitu_ocean.ipynb \n",
    "\n",
    "### Data\n",
    "**Format**:    \n",
    "Data dispo ici :  https://podaac.jpl.nasa.gov/dataset/MUR-JPL-L4-GLOB-v4.1#  \n",
    "- `Comment intaller les data`: \n",
    "\n",
    "### Tool\n",
    "\n",
    "- `Quel outil pour la visu?`: \n",
    "\n",
    "### Envie"
   ]
  },
  {
   "cell_type": "markdown",
   "id": "61e67d69-dce6-4859-b996-364c8887136e",
   "metadata": {},
   "source": [
    "## Figure 12\n",
    "![](figure/Fig12.png)"
   ]
  },
  {
   "cell_type": "markdown",
   "id": "85853075-5038-4911-bf1b-d3daa911fced",
   "metadata": {},
   "source": [
    "### Metatada\n",
    "\n",
    "By **NASA**, un outil en ligne dispo: [soto by worldview](https://soto.podaac.earthdatacloud.nasa.gov/?v=-242.87122707950022,-125.3618960601597,120.28161886346953,38.95530962367102&l=Reference_Labels_15m(hidden),Reference_Features_15m(hidden),Coastlines_15m(hidden),MODIS_Aqua_L2_Chlorophyll_A(hidden),GHRSST_L4_MUR_Sea_Surface_Temperature_Anomalies(palette=divergent_1),GHRSST_L4_MUR_Sea_Surface_Temperature(hidden,palette=purple_3),VIIRS_NOAA20_CorrectedReflectance_TrueColor(hidden),BlueMarble_ShadedRelief&lg=true&l1=Reference_Labels_15m(hidden),Reference_Features_15m(hidden),Coastlines_15m(hidden),MODIS_Aqua_L2_Chlorophyll_A(hidden),GHRSST_L4_MUR_Sea_Surface_Temperature_Anomalies(palette=divergent_1),GHRSST_L4_MUR_Sea_Surface_Temperature(hidden,palette=purple_3),VIIRS_NOAA20_CorrectedReflectance_TrueColor(hidden),BlueMarble_ShadedRelief&lg1=true&ca=true&cv=48&t=2019-09-13-T00%3A00%3A00Z&t1=2015-03-11-T10%3A00%3A00Z ) \n",
    "\n",
    "Notebook a lire, peut etre vraiment utilise pour l'utilisation : https://github.com/podaac/tutorials/blob/master/notebooks/SWOT-EA-2021/Colocate_satellite_insitu_ocean.ipynb \n",
    "\n",
    "### Data\n",
    "**Format**:    \n",
    "Data dispo ici :  https://podaac.jpl.nasa.gov/dataset/MUR-JPL-L4-GLOB-v4.1#  \n",
    "- `Comment intaller les data`: \n",
    "\n",
    "### Tool\n",
    "\n",
    "- `Quel outil pour la visu?`: \n",
    "\n",
    "### Envie"
   ]
  },
  {
   "cell_type": "markdown",
   "id": "e001c685-40a9-44dd-ab59-fb402c46afff",
   "metadata": {},
   "source": [
    "## Figure 13\n",
    "![](figure/Fig13.png)"
   ]
  },
  {
   "attachments": {},
   "cell_type": "markdown",
   "id": "96142c23-7efa-4ab0-a921-af6265a98d5c",
   "metadata": {},
   "source": [
    "### Metatada\n",
    "\n",
    "By **NASA**, un outil en ligne dispo: [soto by worldview](https://soto.podaac.earthdatacloud.nasa.gov/?v=-242.87122707950022,-125.3618960601597,120.28161886346953,38.95530962367102&l=Reference_Labels_15m(hidden),Reference_Features_15m(hidden),Coastlines_15m(hidden),MODIS_Aqua_L2_Chlorophyll_A(hidden),GHRSST_L4_MUR_Sea_Surface_Temperature_Anomalies(palette=divergent_1),GHRSST_L4_MUR_Sea_Surface_Temperature(hidden,palette=purple_3),VIIRS_NOAA20_CorrectedReflectance_TrueColor(hidden),BlueMarble_ShadedRelief&lg=true&l1=Reference_Labels_15m(hidden),Reference_Features_15m(hidden),Coastlines_15m(hidden),MODIS_Aqua_L2_Chlorophyll_A(hidden),GHRSST_L4_MUR_Sea_Surface_Temperature_Anomalies(palette=divergent_1),GHRSST_L4_MUR_Sea_Surface_Temperature(hidden,palette=purple_3),VIIRS_NOAA20_CorrectedReflectance_TrueColor(hidden),BlueMarble_ShadedRelief&lg1=true&ca=true&cv=48&t=2019-09-13-T00%3A00%3A00Z&t1=2015-03-11-T10%3A00%3A00Z ) \n",
    "\n",
    "Notebook a lire, peut etre vraiment utilise pour l'utilisation : https://github.com/podaac/tutorials/blob/master/notebooks/SWOT-EA-2021/Colocate_satellite_insitu_ocean.ipynb \n",
    "\n",
    "### Data\n",
    "**Format**:    \n",
    "Data dispo ici :  https://podaac.jpl.nasa.gov/dataset/MUR-JPL-L4-GLOB-v4.1#  \n",
    "- `Comment intaller les data`: \n",
    "\n",
    "### Tool\n",
    "\n",
    "- `Quel outil pour la visu?`: \n",
    "\n",
    "### Envie\n",
    "\n",
    "\n",
    "\n",
    "\n",
    "\n",
    "\n",
    "\n"
   ]
  }
 ],
 "metadata": {
  "kernelspec": {
   "display_name": "Bash [conda env:bash-kernel]",
   "language": "bash",
   "name": "conda-env-bash-kernel-bash"
  },
  "language_info": {
   "codemirror_mode": "shell",
   "file_extension": ".sh",
   "mimetype": "text/x-sh",
   "name": "bash"
  }
 },
 "nbformat": 4,
 "nbformat_minor": 5
}
