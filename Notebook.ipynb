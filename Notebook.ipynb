{
 "cells": [
  {
   "cell_type": "markdown",
   "id": "97a28f10-af96-463c-befc-9e5deff3002b",
   "metadata": {},
   "source": [
    "# Notebook for FAIRness Area 58\n",
    "The “[State of the Environment and Antarctic Marine Living Resources in Area 48](https://data-access.cesgo.org/index.php/s/P4CWeuACcLYwU1p)”: a proposed model for an annual report to SCCAMLR"
   ]
  },
  {
   "cell_type": "markdown",
   "id": "1dfde040-0fc4-41be-b431-25ea19f5e37d",
   "metadata": {},
   "source": [
    "# Organisation dosier\n",
    "- bin: script sh\n",
    "- conf: .config\n",
    "- modules: .nf\n",
    "- result:\n",
    "    - 00_pipeline: ligne de commande utilisé\n",
    "    - 01_reports:\n",
    "    - 02_results"
   ]
  },
  {
   "cell_type": "markdown",
   "id": "80160d10-35fc-4fe2-b71f-9a281a905798",
   "metadata": {},
   "source": [
    "# PS: "
   ]
  },
  {
   "cell_type": "markdown",
   "id": "2ead1d2e-dad2-490a-8f8b-3c6955a67671",
   "metadata": {},
   "source": [
    "### Lien avec ZATA et autres collaborations\n",
    "\n",
    "- [ZATA](https://codimd.math.cnrs.fr/-Rm9NT_pRT2xO1zNehN-Sw)\n",
    "- [Workshop EBV Anton](https://codimd.math.cnrs.fr/yMbzDLqLTbG4sAOW3YP4TA)\n",
    "\n",
    "\n",
    "### Travail prevu \n",
    "A la fin du stage avoir workflows + listing des données auxiliaires accessibles + données biodiv, si possible toutes les données accessibles via Galaxy !\n",
    "Voir pour réutilisation données ZATA + création de tableau de bord via Beauris (faire un tableau de bord “state of the ecosystems” CCAMLR France via BEAURIS ? - orientations variables essentielles)"
   ]
  },
  {
   "cell_type": "markdown",
   "id": "20bab698-fb12-493f-9072-8b30571bce4a",
   "metadata": {},
   "source": [
    "Intaller les dossier et fichier d'un git: https://downgit.evecalm.com/#/home"
   ]
  },
  {
   "cell_type": "markdown",
   "id": "53da5bf3-ea54-44ee-bd9f-99768b0f5110",
   "metadata": {},
   "source": [
    "# Galaxy\n",
    "Sur Galaxy, 3 moyen de faire quelque chose:\n",
    "- Chercher un outil\n",
    "- Utiliser Jupyter Nextflow\n",
    "- Creer l'outil  \n",
    "\n",
    "Mettre le plus possible en format **tabular**\n",
    "\n",
    "Galaxy permet:\n",
    "- eviter les outils down sur interent\n",
    "- Permet de pas telecharger sur son ordi, ni de l'utiliser\n",
    "- Telechargement des data peut se faire plus rapidement en echangenant directmeent avec les serveurs "
   ]
  },
  {
   "cell_type": "markdown",
   "id": "8b17c34c-f82a-4969-9a7b-001d26b2f981",
   "metadata": {},
   "source": [
    "| Figure du document | Provenance des données                                                                                                                                                      | Accessibilité des données brutes                                                                                        | Galaxy                                                                                                                                                                    | Autre                                                                                                                                                             |     |\n",
    "| ------------------ | --------------------------------------------------------------------------------------------------------------------------------------------------------------------------- | --------------------------------------------------------------------------------------------------------------------- | ------------------------------------------------------------------------------------------------------------------------------------------------------------------------- | ----------------------------------------------------------------------------------------------------------------------------------------------------------------- | --- |\n",
    "| Figure 1  Map of Area 48 including Subareas and CEMP sites                    | CCMALR gis                                                                                                                                                                  | Accessible (https://github.com/ccamlr/data/tree/main/geographical_data)                                               | Non pas besoin                                                                                                                                                             |                                                                                                                                                                   |     |\n",
    "| Figure 2 Antarctic sea ice extent          | US National Snow and Ice center                                                                                                                                             | Accessible (https://nsidc.org/data/g02135/versions/3)                                                                 | Non pas besoin (https://nsidc.org/data/bist)                                                                                                                              |                                                                                                                                                                   |     |\n",
    "| Figure 3 Monthly mean sea ice concentration and sea ice concentration anomalies          | US National Snow and Ice center                                                                                                                                             | Accessible (https://noaadata.apps.nsidc.org/NOAA/G02135/)                                                             | Non pas besoin (https://nsidc.org/arcticseaicenews/charctic-interactive-sea-ice-graph/)                                                                                   |                                                                                                                                                                   |     |\n",
    "| Figure 4  Area 48 sea ice duration for April 2023-March 2024          | US National Snow and Ice center + CCAMLR gis (?)                                                                                                                            | Accessible (https://noaadata.apps.nsidc.org/NOAA/G02135/)                                                             | Oui potentiellement                                                                                                                                                       | Il faut récupérer les bonnes données (pas d'infos sur le fichier précis à télécharger) ainsi que le fond de carte et les zones d'intérets (CCAMLR gis ?)          |     |\n",
    "| Figure 5  Monthly mean sea surface temperatures (SST; °C) and anomalies          | ERA5 reanalysis from Copernicus Climate Change Services (C3S)                                                                                                               | Accessible *a priori* (https://cds.climate.copernicus.eu/cdsapp#!/dataset/reanalysis-era5-single-levels?tab=overview) | Oui potentiellement. Création d'outil pour traitement de données si besoin + outil de visualisation/création de graphes (peut-être même outil que pour la figure 6 et 8). | Manque d'infos pour récupérer les données car selection à faire lors du téléchargement et les propositions du site ne correspondent pas.                          |     |\n",
    "| Figure 6   Example of time series for specific sites, here focussing on two  monitoring  regions  at  South  Georgia         | Copernicus (https://www.copernicus.eu/en)                                                                                                                                   | Accessible *a priori* (https://data.marine.copernicus.eu/product/SST_GLO_SST_L4_NRT_OBSERVATIONS_010_001/description) | Oui potentiellement. Création d'outil pour traitement de données si besoin + outil de visualisation/création de graphes (peut-être même outil que pour la figure 5 et 8). | Manque d'infos sur les données pour télécharger les bons fichiers.  Utilisation de \"The Climate Data Toolbox for MATLAB\" en python pour création des graphes.     |     |\n",
    "| Figure 7 Example sea surface temperature (SST) and SST anomaly maps for 15th           | NASA                                                                                                                                                                        | Non accessible mais carte reproductible                                                                               | Non                                                                                                                                                                       | carte reproductible sur ce lien https://soto.podaac.earthdatacloud.nasa.gov/                                                                                      |     |\n",
    "| Figure 8 Monthly mean 2m near surface air temperature and anomalies          | ERA5 reanalysis from Copernicus Climate Change Services (C3S)                                                                                                               | Accessible *a priori* (https://cds.climate.copernicus.eu/cdsapp#!/dataset/reanalysis-era5-single-levels)              | Oui potentiellement. Création d'outil pour traitement de données si besoin + outil de visualisation/création de graphes (peut-être même outil que pour la figure 5 et 6). | Manque d'infos sur les données pour télécharger les bons fichiers.                                                                                                |     |\n",
    "| Figure 9   Monthly     mean     chlorophyll     a     concentration          | Copernicus-GlobColour dataset                                                                                                                                               | Accessible (https://doi.org/10.48670/moi-00281)                                                                       | Oui (outil NetCDF xarray plotting déjà dispo)                                                                                                                             | Données récupérées +  figure obtenue avec galaxy pour octobre 2022 (historique : https://ecology.usegalaxy.eu/published/history?id=791fe58f7e94540f) et [image](https://ecology.usegalaxy.eu/api/datasets/4838ba20a6d86765b7ddda97cf17ba29/display?to_ext=png) ![](https://codimd.math.cnrs.fr/uploads/6b4e205d4204cf272ac86d306.png) (voir pour la projection) [script récupéré](NSIDC0081_SEAICE_PS_S25km_20241207_v2.0.nc) depuis NSIDC MAIS il faut compte \"Earthdata\" https://nsidc.org/data/data-access-tool/NSIDC-0081/versions/2 |     |\n",
    "| Figure 10 Climate indices         | Produced by G. Marshall, BAS http://www.nerc-bas.ac.uk/icd/gjma/sam.html + Multi-variate El Niño-Southern Oscillation (ENSO) Index Version 2 https://psl.noaa.gov/enso/mei/ | Accessible (data et figure)                                                                                           | Oui et non                                                                                                                                                                | Utilisation de Galaxy pour reproduire les figures mais comme les figures sont dispo directement peut-être pas pertinent                                           |     |\n",
    "| Figure 11 Reported iceberg locations for April 2023-March 2024         |                                                                                                                                                                             | Non accessible                                                                                                        | Non                                                                                                                                                                       | Citation non accessible gratuitement                                                                                                                              |     |\n",
    "| Figure 12  Corrected reflectance Aqua/MODIS         | Image reproduced from WG-EMM-2023/24                                                                                                                                        | Non accessible                                                                                                        | Peut-être                                                                                                                                                                 | Données non accessible mais graphes potentiellement facile a repoduire dans Galaxy                                                                                |     |\n",
    "| Figure 13   number of breeding pairs of gentoo penguins at Port Lockroy, Goudier Island 1997-2024        | https://fisheryreports.ccamlr.org/                                                                                                                                          | Non accessible                                                                                                        | Non                                                                                                                                                                       |                                                                                                                                                                   |     |\n",
    "| Figure 14  number of breeding pairs of (a) Adélie (b) chinstrap (c) gentoo penguins at Signy Island, South Orkney Island 1989-2024        | https://fisheryreports.ccamlr.org/                                                                                                                                          | Non accessible                                                                                                        | Peut-être                                                                                                                                                                 | Données non accessible mais graphes potentiellement facile a repoduire dans Galaxy                                                                                |     |\n",
    "| Figure 15  number of nesting pairs of (a) macaroni (b) gentoo penguins at Bird Island, South Georgia 1989-2024        | https://fisheryreports.ccamlr.org/                                                                                                                                          | Non accessible                                                                                                        | Non                                                                                                                                                                       |                                                                                                                                                                   |     |\n",
    "\n",
    "\n",
    "\n",
    "\n",
    "\n",
    "Figure 16 number of breeding pairs of gentoo penguins at Maiviken, South Georgia 2009-2024.\n",
    "\n",
    "Fig. 17: Annual Antarctic krill catch (tonnes) by Subarea 1980-2024.\n",
    "\n",
    "Fig. 18: Antarctic krill catch distribution in 2022/23 compared to fishery footprint 1992-2023 \n",
    "\n",
    "Fig. 19: Annual and monthly krill catch (tonnes) and effort\n",
    "\n",
    "Fig. 20. Spatial distribution of commercial Antarctic krill fishery catches for austral summer (October to March; left panel) and winter (April to September; right panel) for the 2013-2023  seasons.\n"
   ]
  },
  {
   "cell_type": "markdown",
   "id": "8303a60b-8958-4492-948d-715064744b7f",
   "metadata": {},
   "source": [
    "## Figure 1   \n",
    "![](figure/Fig1.png)  "
   ]
  },
  {
   "cell_type": "markdown",
   "id": "120199c0-1b6e-4216-926b-02a727c5bd2c",
   "metadata": {},
   "source": [
    "### Metatada\n",
    "\n",
    "By **CCMALR**, disponible sur https://gis.ccamlr.org/  \n",
    "\n",
    "### Data\n",
    "**Format**: SIG   \n",
    "Data dispo sur git: https://github.com/ccamlr/data/tree/main/geographical_data/asd    \n",
    "- `Comment intaller les data`\n",
    "### Tool\n",
    "\n",
    "Il faut un outil qui lit du SIG, outil galaxu si possible et qui prend en entrée le JSON (+ simple)\n",
    "(shapefile, Gotif, Gdal, Ogr)  \n",
    "- `Quel outil pour la visu?`\n",
    "\n",
    "### Envie\n",
    "- Demander quel zone voulu, afficher que les zones interrese"
   ]
  },
  {
   "cell_type": "markdown",
   "id": "2b46b177-8721-4ba0-bf3f-ce0b172cf3f2",
   "metadata": {},
   "source": [
    "## Figure 2   \n",
    "![](figure/Fig2.png)"
   ]
  },
  {
   "cell_type": "markdown",
   "id": "b6bdbe3b-7de4-467d-abc5-11d459c0d443",
   "metadata": {},
   "source": [
    "### Metatada\n",
    "\n",
    "By **US National Snow and Ice center**, utilise l'outil: [Charctic Interactive Sea Ice Graph](https://nsidc.org/sea-ice-today/sea-ice-tools/charctic-interactive-sea-ice-graph)  \n",
    "\n",
    "### Data\n",
    "**Format**:  csv (\",\")  \n",
    "Data dispo ici : https://noaadata.apps.nsidc.org/NOAA/G02135/south/daily/data/    \n",
    "\n",
    "\n",
    "| Nom du fichier                                  | Date et heure            | Taille (en octets) |\n",
    "|------------------------------------------------|--------------------------|--------------------|\n",
    "| S_seaice_extent_climatology_1981-2010_v3.0.csv | 02-Jan-2025 15:08        | 34520             |\n",
    "| S_seaice_extent_daily_v3.0.csv                 | 30-Jan-2025 11:23        | 1836740           |\n",
    "\n",
    "\n",
    "\n",
    "\n",
    "\n",
    "- `Comment intaller les data`:\n",
    "    - **paste/file** (ou wget)\n",
    "- `Comment manipuler les tableaux (un tableau par mois --> un tableau par année)`\n",
    "    - Plus besoin, utilise les jours, et un dossier contient tout\n",
    "\n",
    "Utiliser regex, (Join, Substract and Group)\n",
    "\n",
    "### Tool\n",
    "\n",
    "Un outil de visualisation surment avec ggplot (d3js)\n",
    "- `Quel outil pour la visu?`\n",
    "\n",
    "### Envie\n"
   ]
  },
  {
   "cell_type": "markdown",
   "id": "22f7b246-c6e7-4f4e-9583-3fe4c4ca96ac",
   "metadata": {},
   "source": [
    "## Figure 3\n",
    "![](figure/Fig3.png)  "
   ]
  },
  {
   "cell_type": "markdown",
   "id": "904dc61c-eed0-4186-b7ae-1cd571869c25",
   "metadata": {},
   "source": [
    "### Metatada\n",
    "\n",
    "By **US National Snow and Ice center**, utilise l'outil: [Sea Ice Analysis Tool](https://nsidc.org/sea-ice-today/sea-ice-tools/sea-ice-analysis-tool)      \n",
    "\n",
    "### Data\n",
    "**Format**:    \n",
    "Data dispo ici : https://noaadata.apps.nsidc.org/NOAA/G02135/ --> chercher  \n",
    "\n",
    "- `Comment intaller les data`:\n",
    "    - **paste/file** (ou wget)\n",
    "\n",
    "### Tool\n",
    "\n",
    "- `Quel outil pour la visu?`\n",
    "    - Outil de scraping (BeautifulSoup)\n",
    "    - Chercher galaxy ou autre \n",
    "\n",
    "### Envie\n"
   ]
  },
  {
   "cell_type": "markdown",
   "id": "be7a6b09-ee4d-4e0e-afbd-842266e52f69",
   "metadata": {},
   "source": [
    "## Figure 4\n",
    "![](figure/Fig4.png) \n",
    "By **US National Snow and Ice center** , "
   ]
  },
  {
   "cell_type": "markdown",
   "id": "c04f9595-cbeb-4433-b3ec-951caa5c1ff4",
   "metadata": {},
   "source": [
    "### Metatada\n",
    "\n",
    "By **US National Snow and Ice center**\n",
    "\n",
    "### Data\n",
    "**Format**:    \n",
    "Data dispo ici : \n",
    "\n",
    "- `Comment intaller les data`:\n",
    "\n",
    "### Tool\n",
    "\n",
    "- `Quel outil pour la visu?`\n",
    "\n",
    "### Envie"
   ]
  },
  {
   "cell_type": "markdown",
   "id": "554e66d4-0653-4d6a-a356-3ce82dc8d350",
   "metadata": {},
   "source": [
    "## Figure 5\n",
    "![](figure/Fig5_1.png) ![](figure/Fig5_2.png)"
   ]
  },
  {
   "cell_type": "markdown",
   "id": "236c6583-41c9-4edf-a8c1-34e2257bf68a",
   "metadata": {},
   "source": [
    "### Metatada\n",
    "\n",
    "By **ERA5 reanalysis from Copernicus Climate Change Services (C3S)**\n",
    "\n",
    "### Data\n",
    "**Format**:    \n",
    "Data dispo ici :  https://cds.climate.copernicus.eu/datasets/reanalysis-era5-single-levels?tab=overview \n",
    "- `Comment intaller les data`: Utiliser Galaxy ?\n",
    "\n",
    "### Tool\n",
    "\n",
    "- `Quel outil pour la visu?`: Avoir regarder un outil de galaxy \n",
    "\n",
    "### Envie"
   ]
  },
  {
   "cell_type": "markdown",
   "id": "00bacf4d-377b-4d5a-8dd9-f35d785813c0",
   "metadata": {},
   "source": [
    "## Figure 6\n",
    "![](figure/Fig6.png)"
   ]
  },
  {
   "cell_type": "markdown",
   "id": "eb6afd0b-d5d3-4d7c-bc2b-c897b434b7fc",
   "metadata": {},
   "source": [
    "### Metatada\n",
    "\n",
    "By **ERA5 reanalysis from Copernicus Climate Change Services (C3S)**\n",
    "\n",
    "### Data\n",
    "**Format**:    \n",
    "Data dispo ici :  https://cds.climate.copernicus.eu/datasets/reanalysis-era5-single-levels?tab=overview \n",
    "- `Comment intaller les data`: Utiliser Galaxy ?\n",
    "\n",
    "### Tool\n",
    "\n",
    "- `Quel outil pour la visu?`: Avoir regarder un outil de galaxy \n",
    "\n",
    "### Envie"
   ]
  },
  {
   "cell_type": "markdown",
   "id": "6a6d6511-722a-420c-a9d5-6806ab1d0db2",
   "metadata": {},
   "source": []
  },
  {
   "cell_type": "markdown",
   "id": "16a77720-42fa-4d82-8062-3667c196ca94",
   "metadata": {},
   "source": []
  },
  {
   "cell_type": "markdown",
   "id": "433c39aa-2263-477c-8502-a4bcf847c4f7",
   "metadata": {},
   "source": []
  }
 ],
 "metadata": {
  "kernelspec": {
   "display_name": "Bash [conda env:bash-kernel]",
   "language": "bash",
   "name": "conda-env-bash-kernel-bash"
  },
  "language_info": {
   "codemirror_mode": "shell",
   "file_extension": ".sh",
   "mimetype": "text/x-sh",
   "name": "bash"
  }
 },
 "nbformat": 4,
 "nbformat_minor": 5
}
