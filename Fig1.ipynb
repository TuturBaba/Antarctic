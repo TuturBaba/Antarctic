{
 "cells": [
  {
   "cell_type": "code",
   "execution_count": 12,
   "id": "6dacb64e-4dfa-4a64-a534-a6728fe6ddf8",
   "metadata": {},
   "outputs": [],
   "source": [
    "system(\"conda install r-sf\")\n",
    "system(\"conda install r-terra=1.7_39\")\n",
    "system(\"conda install r::r-ccamlrgis\")  "
   ]
  },
  {
   "cell_type": "code",
   "execution_count": 17,
   "id": "46f38d63-b18f-453a-bae0-d8f92a61696a",
   "metadata": {
    "scrolled": true
   },
   "outputs": [
    {
     "data": {
      "text/html": [
       "<strong>null device:</strong> 1"
      ],
      "text/latex": [
       "\\textbf{null device:} 1"
      ],
      "text/markdown": [
       "**null device:** 1"
      ],
      "text/plain": [
       "null device \n",
       "          1 "
      ]
     },
     "metadata": {},
     "output_type": "display_data"
    },
    {
     "data": {
      "text/plain": [
       "[1] ‘1.7.39’"
      ]
     },
     "metadata": {},
     "output_type": "display_data"
    },
    {
     "name": "stdout",
     "output_type": "stream",
     "text": [
      "Reading layer `cemp_site' from data source \n",
      "  `/jetstream2/scratch/main/jobs/64715432/working/jupyter/Antarctic/raw_data/cemp_site/cemp_site.shp' \n",
      "  using driver `ESRI Shapefile'\n",
      "Simple feature collection with 32 features and 12 fields\n",
      "Geometry type: POINT\n",
      "Dimension:     XY\n",
      "Bounding box:  xmin: -64.23 ymin: -77.2333 xmax: 170.2131 ymax: -46.7731\n",
      "Geodetic CRS:  WGS 84\n"
     ]
    },
    {
     "data": {
      "text/html": [
       "<strong>png:</strong> 2"
      ],
      "text/latex": [
       "\\textbf{png:} 2"
      ],
      "text/markdown": [
       "**png:** 2"
      ],
      "text/plain": [
       "png \n",
       "  2 "
      ]
     },
     "metadata": {},
     "output_type": "display_data"
    }
   ],
   "source": [
    "Sys.setenv(PROJ_LIB = \"/opt/conda/envs/rlang-kernel/share/proj\")\n",
    "#Sys.setenv(PROJ_LIB = \"/opt/conda/envs/rlang-kernel/share/proj\")\n",
    "dev.off()\n",
    "library(sf)         # Package for reading and handling shapefiles (vector data)\n",
    "library(terra) # Package for raster data processing\n",
    "library(CCAMLRGIS)  # Package for Antarctic spatial data manipulation\n",
    "packageVersion(\"terra\")\n",
    "\n",
    "# 2 LOAD DATA ----\n",
    "\n",
    "##  Load official CCAMLRGIS layers\n",
    "ASDs <- load_ASDs()    # Antarctic Specially Managed Areas (ASMAs)\n",
    "# EEZs <- load_EEZs() \n",
    "\n",
    "##  LoaAd CEMP\n",
    "CEMP <- st_read(\"raw_data/cemp_site/cemp_site.shp\")  \n",
    "\n",
    "if (st_crs(CEMP) != st_crs(ASDs)) {\n",
    "  CEMP <- st_transform(CEMP, st_crs(ASDs))\n",
    "}\n",
    "\n",
    "# 3️ CREATE MAP OUTPUT ----\n",
    "\n",
    "##  Define export settings for a high-resolution PNG image\n",
    "png(filename = \"resultat/Fig1_test.png\", width = 2200, height = 1800, res = 300)\n",
    "\n",
    "\n",
    "# 4️ MAP PLOTTING ----\n",
    "#Bathy=load_Bathy(\"GEBCO2024_500.tif\")\n",
    "##  Plot bathymetry (underwater relief)\n",
    "plot(SmallBathy(), breaks = Depth_cuts, col = Depth_cols, legend = FALSE, axes = FALSE, box = FALSE, mar = c(0, 0, 0, 5))\n",
    "\n",
    "##  Add a reference grid (latitude/longitude coordinates)\n",
    "add_RefGrid(bb = st_bbox(SmallBathy()), ResLat = 10, ResLon = 45, LabLon = 5000, fontsize = 0.75, lwd = 0.75, offset = 5)\n",
    "\n",
    "##  Add a color scale for depth visualization\n",
    "add_Cscale(height = 70, fontsize = 0.75, offset = -50, width = 14, maxVal = -1, lwd = 0.5)\n",
    "\n",
    "##  Add coastline (Antarctic land contours)\n",
    "plot(st_geometry(Coast[Coast$ID == 'All', ]), col = 'grey', lwd = 0.01, add = TRUE, xpd = TRUE)\n",
    "\n",
    "##  Add ASD boundaries (red borders)\n",
    "plot(st_geometry(ASDs), add = TRUE, lwd = 0.75, border = 'red', xpd = TRUE)\n",
    "\n",
    "##  Add external shapefile (CEMP sites as orange points)\n",
    "plot(st_geometry(CEMP), add = TRUE, pch = 21, bg = 'orange', col = 'black', cex = 1.5)\n",
    "\n",
    "## Add ASD labels for better readability\n",
    "add_labels(mode = 'auto', layer = 'ASDs', fontsize = 0.6, col = 'red')\n",
    "\n",
    "# 5️ SAVE OUTPUT ----\n",
    "dev.off()\n"
   ]
  }
 ],
 "metadata": {
  "kernelspec": {
   "display_name": "R [conda env:rlang-kernel]",
   "language": "R",
   "name": "conda-env-rlang-kernel-r"
  },
  "language_info": {
   "codemirror_mode": "r",
   "file_extension": ".r",
   "mimetype": "text/x-r-source",
   "name": "R",
   "pygments_lexer": "r",
   "version": "4.3.3"
  }
 },
 "nbformat": 4,
 "nbformat_minor": 5
}
