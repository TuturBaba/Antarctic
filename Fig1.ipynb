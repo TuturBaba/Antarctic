{
 "cells": [
  {
   "cell_type": "code",
   "execution_count": null,
   "id": "6dacb64e-4dfa-4a64-a534-a6728fe6ddf8",
   "metadata": {},
   "outputs": [],
   "source": [
    "system(\"conda install r-sf\")\n",
    "system(\"conda install r-terra=1.7_39\")\n",
    "system(\"conda install r-ccamlrgis\")"
   ]
  },
  {
   "cell_type": "code",
   "execution_count": null,
   "id": "45ac5210-942d-42bc-a79c-58d28bc99f52",
   "metadata": {},
   "outputs": [],
   "source": [
    "system(\"conda install r-ccamlrgis\")"
   ]
  },
  {
   "cell_type": "code",
   "execution_count": 17,
   "id": "46f38d63-b18f-453a-bae0-d8f92a61696a",
   "metadata": {
    "scrolled": true
   },
   "outputs": [
    {
     "data": {
      "text/plain": [
       "[1] ‘1.7.39’"
      ]
     },
     "metadata": {},
     "output_type": "display_data"
    },
    {
     "name": "stderr",
     "output_type": "stream",
     "text": [
      "Warning message in CPL_read_ogr(dsn, layer, query, as.character(options), quiet, :\n",
      "“GDAL Error 1: PROJ: proj_create: no database context specified”\n",
      "Warning message in CPL_crs_from_input(x):\n",
      "“GDAL Error 1: PROJ: proj_create_from_database: Open of /opt/conda/envs/rlang-kernel/share/proj failed”\n"
     ]
    },
    {
     "ename": "ERROR",
     "evalue": "Error in eval(expr, envir, enclos): crs not found: is it missing?\n",
     "output_type": "error",
     "traceback": [
      "Error in eval(expr, envir, enclos): crs not found: is it missing?\nTraceback:\n",
      "1. load_ASDs()",
      "2. st_transform(CCAMLR_data, 6932)",
      "3. st_transform.sf(CCAMLR_data, 6932)",
      "4. st_transform(st_geometry(x), crs, ...)",
      "5. st_transform.sfc(st_geometry(x), crs, ...)",
      "6. st_sfc(structure(CPL_transform(x, crs, aoi, pipeline, reverse, \n .     desired_accuracy, allow_ballpark), single_type = NULL, crs = crs))",
      "7. structure(CPL_transform(x, crs, aoi, pipeline, reverse, desired_accuracy, \n .     allow_ballpark), single_type = NULL, crs = crs)",
      "8. CPL_transform(x, crs, aoi, pipeline, reverse, desired_accuracy, \n .     allow_ballpark)"
     ]
    }
   ],
   "source": [
    "library(CCAMLRGIS)  # Package for Antarctic spatial data manipulation\n",
    "library(terra)      # Package for raster data processing\n",
    "library(sf)         # Package for reading and handling shapefiles (vector data)\n",
    "packageVersion(\"terra\")\n",
    "\n",
    "# 2 LOAD DATA ----\n",
    "\n",
    "##  Load official CCAMLRGIS layers\n",
    "ASDs <- load_ASDs()    # Antarctic Specially Managed Areas (ASMAs)\n",
    "# EEZs <- load_EEZs() \n",
    "\n",
    "##  LoaAd CEMP\n",
    "CEMP <- st_read(\"cemp_site/cemp_site.shp\")  \n",
    "\n",
    "if (st_crs(CEMP) != st_crs(ASDs)) {\n",
    "  CEMP <- st_transform(CEMP, st_crs(ASDs))\n",
    "}\n",
    "\n",
    "# 3️ CREATE MAP OUTPUT ----\n",
    "\n",
    "##  Define export settings for a high-resolution PNG image\n",
    "png(filename = \"resultat/Fig1_test.png\", width = 2200, height = 1800, res = 300)\n",
    "\n",
    "\n",
    "# 4️ MAP PLOTTING ----\n",
    "Bathy=load_Bathy(\"GEBCO2024_500.tif\")\n",
    "##  Plot bathymetry (underwater relief)\n",
    "plot(Bathy, breaks = Depth_cuts, col = Depth_cols, legend = FALSE, axes = FALSE, box = FALSE, mar = c(0, 0, 0, 5))\n",
    "\n",
    "##  Add a reference grid (latitude/longitude coordinates)\n",
    "add_RefGrid(bb = st_bbox(SmallBathy()), ResLat = 10, ResLon = 45, LabLon = 5000, fontsize = 0.75, lwd = 0.75, offset = 5)\n",
    "\n",
    "##  Add a color scale for depth visualization\n",
    "add_Cscale(height = 70, fontsize = 0.75, offset = -50, width = 14, maxVal = -1, lwd = 0.5)\n",
    "\n",
    "##  Add coastline (Antarctic land contours)\n",
    "plot(st_geometry(Coast[Coast$ID == 'All', ]), col = 'grey', lwd = 0.01, add = TRUE, xpd = TRUE)\n",
    "\n",
    "##  Add ASD boundaries (red borders)\n",
    "plot(st_geometry(ASDs), add = TRUE, lwd = 0.75, border = 'red', xpd = TRUE)\n",
    "\n",
    "##  Add external shapefile (CEMP sites as orange points)\n",
    "plot(st_geometry(CEMP), add = TRUE, pch = 21, bg = 'orange', col = 'black', cex = 1.5)\n",
    "\n",
    "## Add ASD labels for better readability\n",
    "add_labels(mode = 'auto', layer = 'ASDs', fontsize = 0.6, col = 'red')\n",
    "\n",
    "# 5️ SAVE OUTPUT ----\n",
    "dev.off()\n"
   ]
  }
 ],
 "metadata": {
  "kernelspec": {
   "display_name": "R [conda env:rlang-kernel]",
   "language": "R",
   "name": "conda-env-rlang-kernel-r"
  },
  "language_info": {
   "codemirror_mode": "r",
   "file_extension": ".r",
   "mimetype": "text/x-r-source",
   "name": "R",
   "pygments_lexer": "r",
   "version": "4.3.3"
  }
 },
 "nbformat": 4,
 "nbformat_minor": 5
}
